{
  "nbformat": 4,
  "nbformat_minor": 0,
  "metadata": {
    "colab": {
      "provenance": []
    },
    "kernelspec": {
      "name": "python3",
      "display_name": "Python 3"
    },
    "language_info": {
      "name": "python"
    }
  },
  "cells": [
    {
      "cell_type": "code",
      "execution_count": null,
      "metadata": {
        "id": "-sg2NfpaTn4M"
      },
      "outputs": [],
      "source": [
        "import pandas as pd\n",
        "import numpy as np\n",
        "import numpy.linalg as la"
      ]
    },
    {
      "cell_type": "code",
      "source": [
        "numpy_data=pd.read_csv(\"/content/NumpyExerciseData.csv\")"
      ],
      "metadata": {
        "id": "7h5j6rlpTwNc"
      },
      "execution_count": null,
      "outputs": []
    },
    {
      "cell_type": "code",
      "source": [
        "data=np.array(numpy_data)"
      ],
      "metadata": {
        "id": "FoaQiiKJUN1K"
      },
      "execution_count": null,
      "outputs": []
    },
    {
      "cell_type": "code",
      "source": [
        "x_data=data[:,:6]\n",
        "y_data=data[:,6:7]\n",
        "x_data.shape"
      ],
      "metadata": {
        "colab": {
          "base_uri": "https://localhost:8080/"
        },
        "id": "zCl3pF8wUocA",
        "outputId": "0ce55d5f-d717-4058-b7a8-1b25fe35d0b4"
      },
      "execution_count": null,
      "outputs": [
        {
          "output_type": "execute_result",
          "data": {
            "text/plain": [
              "(50, 6)"
            ]
          },
          "metadata": {},
          "execution_count": 177
        }
      ]
    },
    {
      "cell_type": "code",
      "source": [
        "X_train_data=x_data[1:41]\n",
        "Y_train_data=y_data[1:41]\n",
        "Y_train_data.shape"
      ],
      "metadata": {
        "colab": {
          "base_uri": "https://localhost:8080/"
        },
        "id": "yjDDFSxuUXh9",
        "outputId": "0b29fb55-525e-4d0f-cd57-713d96d9e6e0"
      },
      "execution_count": 184,
      "outputs": [
        {
          "output_type": "execute_result",
          "data": {
            "text/plain": [
              "(40, 1)"
            ]
          },
          "metadata": {},
          "execution_count": 184
        }
      ]
    },
    {
      "cell_type": "code",
      "source": [
        "X_train_data.shape"
      ],
      "metadata": {
        "colab": {
          "base_uri": "https://localhost:8080/"
        },
        "id": "h_XgIUQsaB5c",
        "outputId": "e12826e6-5ef1-481a-e58b-9f5d92708c00"
      },
      "execution_count": null,
      "outputs": [
        {
          "output_type": "execute_result",
          "data": {
            "text/plain": [
              "(40, 6)"
            ]
          },
          "metadata": {},
          "execution_count": 179
        }
      ]
    },
    {
      "cell_type": "code",
      "source": [
        "X_test_data=x_data[42:]\n",
        "Y_test_data=y_data[42:]\n",
        "Y_test_data.shape"
      ],
      "metadata": {
        "colab": {
          "base_uri": "https://localhost:8080/"
        },
        "id": "NQwp74KPUYfI",
        "outputId": "3fc63616-7d8c-40f0-9025-8793d46298fd"
      },
      "execution_count": 185,
      "outputs": [
        {
          "output_type": "execute_result",
          "data": {
            "text/plain": [
              "(8, 1)"
            ]
          },
          "metadata": {},
          "execution_count": 185
        }
      ]
    },
    {
      "cell_type": "code",
      "source": [
        "# W= ((X'X)^-1)*X'y : Use linear algebra for inverse\n",
        "w_newton=la.inv(X_train_data.T.dot(X_train_data)).dot(X_train_data.T.dot(Y_train_data))\n",
        "w_newton"
      ],
      "metadata": {
        "colab": {
          "base_uri": "https://localhost:8080/"
        },
        "id": "DHLXzgA5Xq2d",
        "outputId": "0375a89f-de50-40a2-b4df-aa56a3ec13fb"
      },
      "execution_count": 188,
      "outputs": [
        {
          "output_type": "execute_result",
          "data": {
            "text/plain": [
              "array([[-7.83196374],\n",
              "       [ 3.26458338],\n",
              "       [ 0.16631204],\n",
              "       [12.19246692],\n",
              "       [ 0.38231333],\n",
              "       [-1.58835343]])"
            ]
          },
          "metadata": {},
          "execution_count": 188
        }
      ]
    },
    {
      "cell_type": "code",
      "source": [
        "Y_train_predict=X_train_data.dot(w_newton)\n",
        "Y_test_predict=X_test_data.dot(w_newton)"
      ],
      "metadata": {
        "id": "VpnT7kRsVCAt"
      },
      "execution_count": 189,
      "outputs": []
    },
    {
      "cell_type": "code",
      "source": [
        "sse_train=((Y_train_predict-Y_train_data)**2).sum()\n",
        "mse_train=sse_train.mean()\n",
        "rmse_train=mse_train**0.5\n",
        "tss_train=((Y_train_data-Y_train_data.mean())**2).sum()\n",
        "r2_score_train=1-((sse_train/tss_train).sum())\n",
        "r2_score_train"
      ],
      "metadata": {
        "colab": {
          "base_uri": "https://localhost:8080/"
        },
        "id": "H1K0JLI1XUvS",
        "outputId": "0abcdd41-1172-4cf3-90c6-8761c7b9f6f2"
      },
      "execution_count": 190,
      "outputs": [
        {
          "output_type": "execute_result",
          "data": {
            "text/plain": [
              "0.9992912223434068"
            ]
          },
          "metadata": {},
          "execution_count": 190
        }
      ]
    },
    {
      "cell_type": "code",
      "source": [
        "sse_test=((Y_test_predict-Y_test_data)**2).sum()\n",
        "mse_test=sse_test.mean()\n",
        "rmse_test=mse_test**0.5\n",
        "tss_test=((Y_test_data-Y_test_data.mean())**2).sum()\n",
        "r2_score_test=1-((sse_test/tss_test).sum())\n",
        "r2_score_test"
      ],
      "metadata": {
        "colab": {
          "base_uri": "https://localhost:8080/"
        },
        "id": "bBpiRCULgEis",
        "outputId": "b26b6c79-254b-4f23-f64c-daec565ed726"
      },
      "execution_count": 191,
      "outputs": [
        {
          "output_type": "execute_result",
          "data": {
            "text/plain": [
              "0.9992039834757199"
            ]
          },
          "metadata": {},
          "execution_count": 191
        }
      ]
    },
    {
      "cell_type": "code",
      "source": [
        "# Newton Regularized W: ((X'X+lambda*I)^-1)*X'y\n",
        "w_newton_regular=la.inv((X_train_data.T.dot(X_train_data))+0.17*np.eye(6)).dot(X_train_data.T.dot(Y_train_data))\n",
        "w_newton_regular"
      ],
      "metadata": {
        "id": "3HP7SzZsjVJW",
        "colab": {
          "base_uri": "https://localhost:8080/"
        },
        "outputId": "aa8578d1-c819-4351-d067-5fdd64afab87"
      },
      "execution_count": 205,
      "outputs": [
        {
          "output_type": "execute_result",
          "data": {
            "text/plain": [
              "array([[-6.7562687 ],\n",
              "       [ 3.2347398 ],\n",
              "       [ 0.15118389],\n",
              "       [11.67719211],\n",
              "       [ 0.37881104],\n",
              "       [-1.56678791]])"
            ]
          },
          "metadata": {},
          "execution_count": 205
        }
      ]
    },
    {
      "cell_type": "code",
      "source": [
        "Y_train_rpredict=X_train_data.dot(w_newton_regular)\n",
        "Y_test_rpredict=X_test_data.dot(w_newton_regular)"
      ],
      "metadata": {
        "id": "uQxNG2uomqxK"
      },
      "execution_count": 209,
      "outputs": []
    },
    {
      "cell_type": "code",
      "source": [
        "sse_train=((Y_train_rpredict-Y_train_data)**2).sum()\n",
        "mse_train=sse_train.mean()\n",
        "rmse_train=mse_train**0.5\n",
        "tss_train=((Y_train_data-Y_train_data.mean())**2).sum()\n",
        "r2_score_train=1-((sse_train/tss_train).sum())\n",
        "r2_score_train"
      ],
      "metadata": {
        "colab": {
          "base_uri": "https://localhost:8080/"
        },
        "id": "AZWp0qR3w1NI",
        "outputId": "31a699de-5f06-4470-a6fe-78c33e52ff35"
      },
      "execution_count": 210,
      "outputs": [
        {
          "output_type": "execute_result",
          "data": {
            "text/plain": [
              "0.9987347740766592"
            ]
          },
          "metadata": {},
          "execution_count": 210
        }
      ]
    },
    {
      "cell_type": "code",
      "source": [
        "sse_test=((Y_test_rpredict-Y_test_data)**2).sum()\n",
        "mse_test=sse_test.mean()\n",
        "rmse_test=mse_test**0.5\n",
        "tss_test=((Y_test_data-Y_test_data.mean())**2).sum()\n",
        "r2_score_test=1-((sse_test/tss_test).sum())\n",
        "r2_score_test"
      ],
      "metadata": {
        "colab": {
          "base_uri": "https://localhost:8080/"
        },
        "id": "CwGg2crOw4G6",
        "outputId": "0ba4b717-c83b-44c2-85bd-a291f9c040a7"
      },
      "execution_count": 211,
      "outputs": [
        {
          "output_type": "execute_result",
          "data": {
            "text/plain": [
              "0.9992216154997569"
            ]
          },
          "metadata": {},
          "execution_count": 211
        }
      ]
    },
    {
      "cell_type": "code",
      "source": [],
      "metadata": {
        "id": "jrXvbMEmw6MC"
      },
      "execution_count": null,
      "outputs": []
    }
  ]
}