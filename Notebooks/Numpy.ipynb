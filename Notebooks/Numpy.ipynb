{
  "nbformat": 4,
  "nbformat_minor": 0,
  "metadata": {
    "colab": {
      "provenance": [],
      "toc_visible": true
    },
    "kernelspec": {
      "name": "python3",
      "display_name": "Python 3"
    },
    "language_info": {
      "name": "python"
    }
  },
  "cells": [
    {
      "cell_type": "code",
      "execution_count": 6,
      "metadata": {
        "id": "UV6JfnT9w6CK"
      },
      "outputs": [],
      "source": [
        "import pandas as pd\n",
        "import numpy as np"
      ]
    },
    {
      "cell_type": "code",
      "source": [
        "a=[2,3,4]\n",
        "b=[4,7,9]\n",
        "sum(a+b)"
      ],
      "metadata": {
        "colab": {
          "base_uri": "https://localhost:8080/"
        },
        "id": "NsrwTV1JxBpU",
        "outputId": "a094cae9-3827-4a4b-8fad-e9790ae4d33c"
      },
      "execution_count": 7,
      "outputs": [
        {
          "output_type": "execute_result",
          "data": {
            "text/plain": [
              "29"
            ]
          },
          "metadata": {},
          "execution_count": 7
        }
      ]
    },
    {
      "cell_type": "code",
      "source": [
        "#to calculate individual summation we need to use numpy\n",
        "np_a=np.array(a)\n",
        "np_b=np.array(b)"
      ],
      "metadata": {
        "id": "woCFGdyIyIHy"
      },
      "execution_count": 8,
      "outputs": []
    },
    {
      "cell_type": "code",
      "source": [
        "np_a + np_b"
      ],
      "metadata": {
        "colab": {
          "base_uri": "https://localhost:8080/"
        },
        "id": "xEVQQPaizKss",
        "outputId": "26d1ee05-3bf5-4f82-9068-aab7185cbbf0"
      },
      "execution_count": 9,
      "outputs": [
        {
          "output_type": "execute_result",
          "data": {
            "text/plain": [
              "array([ 6, 10, 13])"
            ]
          },
          "metadata": {},
          "execution_count": 9
        }
      ]
    },
    {
      "cell_type": "code",
      "source": [
        "#Numpy Array only uses single data type otherwise changes to string if mixed\n",
        "p=np.array([1,2,'abv'])\n",
        "p"
      ],
      "metadata": {
        "colab": {
          "base_uri": "https://localhost:8080/"
        },
        "id": "BD6KUmtjzWNV",
        "outputId": "a4d022ab-1012-462e-ef26-595274651fc8"
      },
      "execution_count": 15,
      "outputs": [
        {
          "output_type": "execute_result",
          "data": {
            "text/plain": [
              "array(['1', '2', 'abv'], dtype='<U21')"
            ]
          },
          "metadata": {},
          "execution_count": 15
        }
      ]
    },
    {
      "cell_type": "code",
      "source": [
        "#Bool values are converted to binary\n",
        "q=np.array([1,5,True,False])\n",
        "q"
      ],
      "metadata": {
        "colab": {
          "base_uri": "https://localhost:8080/"
        },
        "id": "tFx0890nzrVE",
        "outputId": "f7f43a15-3335-4a02-8f2f-d912d6776668"
      },
      "execution_count": 16,
      "outputs": [
        {
          "output_type": "execute_result",
          "data": {
            "text/plain": [
              "array([1, 5, 1, 0])"
            ]
          },
          "metadata": {},
          "execution_count": 16
        }
      ]
    },
    {
      "cell_type": "code",
      "source": [
        "#Different arrays don't add up\n",
        "# p+q"
      ],
      "metadata": {
        "id": "Xv4UzEZ90MNH"
      },
      "execution_count": 22,
      "outputs": []
    },
    {
      "cell_type": "code",
      "source": [
        "q.max()"
      ],
      "metadata": {
        "colab": {
          "base_uri": "https://localhost:8080/"
        },
        "id": "2z6W14_v0Wgy",
        "outputId": "6b6e5ee5-39a0-46ad-fbdf-30c0202abcba"
      },
      "execution_count": 23,
      "outputs": [
        {
          "output_type": "execute_result",
          "data": {
            "text/plain": [
              "5"
            ]
          },
          "metadata": {},
          "execution_count": 23
        }
      ]
    },
    {
      "cell_type": "code",
      "source": [
        "q.mean()"
      ],
      "metadata": {
        "colab": {
          "base_uri": "https://localhost:8080/"
        },
        "id": "gGHrvXaa1PpF",
        "outputId": "66507ed6-a17d-4611-f74d-1688562a9e4f"
      },
      "execution_count": 24,
      "outputs": [
        {
          "output_type": "execute_result",
          "data": {
            "text/plain": [
              "1.75"
            ]
          },
          "metadata": {},
          "execution_count": 24
        }
      ]
    },
    {
      "cell_type": "code",
      "source": [
        "q.min()"
      ],
      "metadata": {
        "colab": {
          "base_uri": "https://localhost:8080/"
        },
        "id": "VfYlGE-41RSC",
        "outputId": "437bd1b3-3317-4997-cb71-2975944f4f0a"
      },
      "execution_count": 25,
      "outputs": [
        {
          "output_type": "execute_result",
          "data": {
            "text/plain": [
              "0"
            ]
          },
          "metadata": {},
          "execution_count": 25
        }
      ]
    },
    {
      "cell_type": "code",
      "source": [
        "np.ones(4)"
      ],
      "metadata": {
        "colab": {
          "base_uri": "https://localhost:8080/"
        },
        "id": "f6Z1FOiI1Siu",
        "outputId": "3b1aed8b-4582-4dca-84df-238b11341a7d"
      },
      "execution_count": 28,
      "outputs": [
        {
          "output_type": "execute_result",
          "data": {
            "text/plain": [
              "array([1., 1., 1., 1.])"
            ]
          },
          "metadata": {},
          "execution_count": 28
        }
      ]
    },
    {
      "cell_type": "code",
      "source": [
        "np.zeros(2)"
      ],
      "metadata": {
        "colab": {
          "base_uri": "https://localhost:8080/"
        },
        "id": "Oj_ahICs1bXH",
        "outputId": "8e629a9e-5c2a-49b1-a1da-0268a014edc8"
      },
      "execution_count": 30,
      "outputs": [
        {
          "output_type": "execute_result",
          "data": {
            "text/plain": [
              "array([0., 0.])"
            ]
          },
          "metadata": {},
          "execution_count": 30
        }
      ]
    },
    {
      "cell_type": "code",
      "source": [
        "# Only normal multiplication can be performed\n",
        "q*3"
      ],
      "metadata": {
        "colab": {
          "base_uri": "https://localhost:8080/"
        },
        "id": "KgXuhyLW14O0",
        "outputId": "77aa56bb-d51f-4f90-8869-6c1f66096fcb"
      },
      "execution_count": 32,
      "outputs": [
        {
          "output_type": "execute_result",
          "data": {
            "text/plain": [
              "array([ 3, 15,  3,  0])"
            ]
          },
          "metadata": {},
          "execution_count": 32
        }
      ]
    },
    {
      "cell_type": "code",
      "source": [
        "q*[2]"
      ],
      "metadata": {
        "colab": {
          "base_uri": "https://localhost:8080/"
        },
        "id": "4gjFaUmM19xK",
        "outputId": "bd8d4c14-771a-4c07-811a-c83d79da9043"
      },
      "execution_count": 38,
      "outputs": [
        {
          "output_type": "execute_result",
          "data": {
            "text/plain": [
              "array([ 2, 10,  2,  0])"
            ]
          },
          "metadata": {},
          "execution_count": 38
        }
      ]
    },
    {
      "cell_type": "code",
      "source": [
        "# Array_Broadcasting: Makes N-Dimen. array matching to initial array\n",
        "# Helps in assigning weights to features\n",
        "q*np.array([2.2])"
      ],
      "metadata": {
        "colab": {
          "base_uri": "https://localhost:8080/"
        },
        "id": "jFvxjXNS2tJf",
        "outputId": "e7db3732-f073-44e5-a306-8534bd686a18"
      },
      "execution_count": 39,
      "outputs": [
        {
          "output_type": "execute_result",
          "data": {
            "text/plain": [
              "array([ 2.2, 11. ,  2.2,  0. ])"
            ]
          },
          "metadata": {},
          "execution_count": 39
        }
      ]
    },
    {
      "cell_type": "code",
      "source": [
        "# Different values cannot be broadcasted, either the N-D should be 1 or equal\n",
        "# q*np.array([2.2,4.4])"
      ],
      "metadata": {
        "id": "MYDYctdc2E3O"
      },
      "execution_count": 40,
      "outputs": []
    },
    {
      "cell_type": "code",
      "source": [
        "# list functions work on n-d array\n",
        "q"
      ],
      "metadata": {
        "colab": {
          "base_uri": "https://localhost:8080/"
        },
        "id": "MpqkYsB84-yZ",
        "outputId": "3552c71c-07d1-4b09-b2ad-dbc3517be59d"
      },
      "execution_count": 41,
      "outputs": [
        {
          "output_type": "execute_result",
          "data": {
            "text/plain": [
              "array([1, 5, 1, 0])"
            ]
          },
          "metadata": {},
          "execution_count": 41
        }
      ]
    },
    {
      "cell_type": "code",
      "source": [
        "q[1]"
      ],
      "metadata": {
        "colab": {
          "base_uri": "https://localhost:8080/"
        },
        "id": "EeUU2Prf5OW0",
        "outputId": "f3225d52-7b35-4044-9727-ce4b388724ee"
      },
      "execution_count": 49,
      "outputs": [
        {
          "output_type": "execute_result",
          "data": {
            "text/plain": [
              "5"
            ]
          },
          "metadata": {},
          "execution_count": 49
        }
      ]
    },
    {
      "cell_type": "code",
      "source": [
        "q[1:]"
      ],
      "metadata": {
        "colab": {
          "base_uri": "https://localhost:8080/"
        },
        "id": "0IGEXzd95JWZ",
        "outputId": "1f821580-086f-4368-cce9-2d1c4305fdf3"
      },
      "execution_count": 42,
      "outputs": [
        {
          "output_type": "execute_result",
          "data": {
            "text/plain": [
              "array([5, 1, 0])"
            ]
          },
          "metadata": {},
          "execution_count": 42
        }
      ]
    },
    {
      "cell_type": "code",
      "source": [
        "q_2d=np.array([[1,2],[3,4]])\n",
        "q_2d"
      ],
      "metadata": {
        "colab": {
          "base_uri": "https://localhost:8080/"
        },
        "id": "7QoJzj7Y5Scy",
        "outputId": "91708a5d-4e59-4673-ac1c-2f019dd10383"
      },
      "execution_count": 52,
      "outputs": [
        {
          "output_type": "execute_result",
          "data": {
            "text/plain": [
              "array([[1, 2],\n",
              "       [3, 4]])"
            ]
          },
          "metadata": {},
          "execution_count": 52
        }
      ]
    },
    {
      "cell_type": "code",
      "source": [
        "q_2d.sum()"
      ],
      "metadata": {
        "colab": {
          "base_uri": "https://localhost:8080/"
        },
        "id": "bxppFjmc6Eq3",
        "outputId": "f63594e2-57b1-4c1d-94cd-8d7c4a0a3311"
      },
      "execution_count": 54,
      "outputs": [
        {
          "output_type": "execute_result",
          "data": {
            "text/plain": [
              "10"
            ]
          },
          "metadata": {},
          "execution_count": 54
        }
      ]
    },
    {
      "cell_type": "code",
      "source": [
        "# Axis 0 = Column\n",
        "# Axis 1 =Row\n",
        "q_2d.sum(axis=0)"
      ],
      "metadata": {
        "colab": {
          "base_uri": "https://localhost:8080/"
        },
        "id": "I7XOBqGC6Odx",
        "outputId": "b9c0da83-8195-4218-a049-34e3112b1ec0"
      },
      "execution_count": 55,
      "outputs": [
        {
          "output_type": "execute_result",
          "data": {
            "text/plain": [
              "array([4, 6])"
            ]
          },
          "metadata": {},
          "execution_count": 55
        }
      ]
    },
    {
      "cell_type": "code",
      "source": [
        "# 2-d arrays are matrices, All above are tensors: 3-d,4-d tensors\n",
        "# Matrices can be tranasposed\n",
        "q_2d.transpose()\n",
        "q_2d.T"
      ],
      "metadata": {
        "colab": {
          "base_uri": "https://localhost:8080/"
        },
        "id": "kKw3RdnW6UP5",
        "outputId": "e0402648-30c2-46d9-c527-4b1d76a62245"
      },
      "execution_count": 58,
      "outputs": [
        {
          "output_type": "execute_result",
          "data": {
            "text/plain": [
              "array([[1, 3],\n",
              "       [2, 4]])"
            ]
          },
          "metadata": {},
          "execution_count": 58
        }
      ]
    },
    {
      "cell_type": "code",
      "source": [
        "# To generate identity matrix: np.eye(dimension)\n",
        "np.eye(2)"
      ],
      "metadata": {
        "colab": {
          "base_uri": "https://localhost:8080/"
        },
        "id": "s7Pcxigb76GM",
        "outputId": "777f6a0c-3066-4ca2-92cb-53152c1cbabd"
      },
      "execution_count": 67,
      "outputs": [
        {
          "output_type": "execute_result",
          "data": {
            "text/plain": [
              "array([[1., 0.],\n",
              "       [0., 1.]])"
            ]
          },
          "metadata": {},
          "execution_count": 67
        }
      ]
    },
    {
      "cell_type": "code",
      "source": [
        "# Can define ones and zeros in N-d\n",
        "np.ones([2,2])"
      ],
      "metadata": {
        "colab": {
          "base_uri": "https://localhost:8080/"
        },
        "id": "3i6RAoPA6xnd",
        "outputId": "84cca0c7-2b2e-4290-aa09-77442559ec58"
      },
      "execution_count": 60,
      "outputs": [
        {
          "output_type": "execute_result",
          "data": {
            "text/plain": [
              "array([[1., 1.],\n",
              "       [1., 1.]])"
            ]
          },
          "metadata": {},
          "execution_count": 60
        }
      ]
    },
    {
      "cell_type": "code",
      "source": [
        "np.zeros([2,1])"
      ],
      "metadata": {
        "colab": {
          "base_uri": "https://localhost:8080/"
        },
        "id": "WySSr3mm7mMq",
        "outputId": "7d9c2053-e61d-4a17-d82e-f375b98b61dd"
      },
      "execution_count": 62,
      "outputs": [
        {
          "output_type": "execute_result",
          "data": {
            "text/plain": [
              "array([[0.],\n",
              "       [0.]])"
            ]
          },
          "metadata": {},
          "execution_count": 62
        }
      ]
    },
    {
      "cell_type": "code",
      "source": [
        "q_2d"
      ],
      "metadata": {
        "colab": {
          "base_uri": "https://localhost:8080/"
        },
        "id": "IO0DYeAw9BmH",
        "outputId": "47b51215-f616-445b-f1c3-0b57c4adce2d"
      },
      "execution_count": 70,
      "outputs": [
        {
          "output_type": "execute_result",
          "data": {
            "text/plain": [
              "array([[1, 2],\n",
              "       [3, 4]])"
            ]
          },
          "metadata": {},
          "execution_count": 70
        }
      ]
    },
    {
      "cell_type": "code",
      "source": [
        "# Broadcaasting accross Matrices\n",
        "q_2d+np.eye(2,1)"
      ],
      "metadata": {
        "colab": {
          "base_uri": "https://localhost:8080/"
        },
        "id": "AZEU5F2L7s7P",
        "outputId": "8d8fa39a-b34e-4d34-a074-4aaa4b415160"
      },
      "execution_count": 69,
      "outputs": [
        {
          "output_type": "execute_result",
          "data": {
            "text/plain": [
              "array([[2., 3.],\n",
              "       [3., 4.]])"
            ]
          },
          "metadata": {},
          "execution_count": 69
        }
      ]
    },
    {
      "cell_type": "code",
      "source": [
        "# Dot product can only be performed when dimension match i.r Col = Row\n",
        "q_dot=q_2d.dot(np.ones([2,3]))\n",
        "q_dot"
      ],
      "metadata": {
        "colab": {
          "base_uri": "https://localhost:8080/"
        },
        "id": "WvIvZSEu84f4",
        "outputId": "a79fa5a2-f8ea-4f0c-ad1a-f64830c20a5a"
      },
      "execution_count": 79,
      "outputs": [
        {
          "output_type": "execute_result",
          "data": {
            "text/plain": [
              "array([[3., 3., 3.],\n",
              "       [7., 7., 7.]])"
            ]
          },
          "metadata": {},
          "execution_count": 79
        }
      ]
    },
    {
      "cell_type": "code",
      "source": [
        "q_2d.shape"
      ],
      "metadata": {
        "colab": {
          "base_uri": "https://localhost:8080/"
        },
        "id": "wob9QXup9fkB",
        "outputId": "6eaece98-0374-4ab6-84d6-4ea25bb286c1"
      },
      "execution_count": 80,
      "outputs": [
        {
          "output_type": "execute_result",
          "data": {
            "text/plain": [
              "(2, 2)"
            ]
          },
          "metadata": {},
          "execution_count": 80
        }
      ]
    },
    {
      "cell_type": "code",
      "source": [
        "q_dot.shape"
      ],
      "metadata": {
        "colab": {
          "base_uri": "https://localhost:8080/"
        },
        "id": "MRA66MhZ9wDY",
        "outputId": "ec0f17eb-1af7-4fb8-dffa-9f0eb3e61099"
      },
      "execution_count": 81,
      "outputs": [
        {
          "output_type": "execute_result",
          "data": {
            "text/plain": [
              "(2, 3)"
            ]
          },
          "metadata": {},
          "execution_count": 81
        }
      ]
    },
    {
      "cell_type": "code",
      "source": [
        "# use random function to generate arrays\n",
        "np_reshape=np.random.random(6)\n",
        "np_reshape"
      ],
      "metadata": {
        "colab": {
          "base_uri": "https://localhost:8080/"
        },
        "id": "tfAIgpf7-ikA",
        "outputId": "8e555997-cbd9-47c5-e30d-b83915edbc4b"
      },
      "execution_count": 113,
      "outputs": [
        {
          "output_type": "execute_result",
          "data": {
            "text/plain": [
              "array([0.0530658 , 0.00190293, 0.7890766 , 0.53614657, 0.06451744,\n",
              "       0.68970859])"
            ]
          },
          "metadata": {},
          "execution_count": 113
        }
      ]
    },
    {
      "cell_type": "code",
      "source": [
        "# Reshaping to match dimension of data: np.reshape(row,col)\n",
        "# Use col = -1 if don't know dimension and give only rows\n",
        "np_reshape.reshape(2,3)"
      ],
      "metadata": {
        "colab": {
          "base_uri": "https://localhost:8080/"
        },
        "id": "JOB_qxJx92Ob",
        "outputId": "72e05fde-a91e-4e21-bdb1-dc7f7be84f39"
      },
      "execution_count": 114,
      "outputs": [
        {
          "output_type": "execute_result",
          "data": {
            "text/plain": [
              "array([[0.0530658 , 0.00190293, 0.7890766 ],\n",
              "       [0.53614657, 0.06451744, 0.68970859]])"
            ]
          },
          "metadata": {},
          "execution_count": 114
        }
      ]
    },
    {
      "cell_type": "code",
      "source": [
        "np_reshape.reshape(1,-1)"
      ],
      "metadata": {
        "colab": {
          "base_uri": "https://localhost:8080/"
        },
        "id": "daOQ35Hh-cFd",
        "outputId": "03a48948-fd40-4643-ae46-1f5153bd3509"
      },
      "execution_count": 115,
      "outputs": [
        {
          "output_type": "execute_result",
          "data": {
            "text/plain": [
              "array([[0.0530658 , 0.00190293, 0.7890766 , 0.53614657, 0.06451744,\n",
              "        0.68970859]])"
            ]
          },
          "metadata": {},
          "execution_count": 115
        }
      ]
    },
    {
      "cell_type": "code",
      "source": [
        "# -----------------------------------------------------------------------------#\n",
        "# To use Linear Algebra\n",
        "import numpy.linalg as la"
      ],
      "metadata": {
        "id": "z9e46frU_M35"
      },
      "execution_count": 116,
      "outputs": []
    },
    {
      "cell_type": "code",
      "source": [
        "q_2d"
      ],
      "metadata": {
        "colab": {
          "base_uri": "https://localhost:8080/"
        },
        "id": "PKRmGXHpAXuh",
        "outputId": "6b936c51-9a8e-4856-fe46-14b743dfd39f"
      },
      "execution_count": 117,
      "outputs": [
        {
          "output_type": "execute_result",
          "data": {
            "text/plain": [
              "array([[1, 2],\n",
              "       [3, 4]])"
            ]
          },
          "metadata": {},
          "execution_count": 117
        }
      ]
    },
    {
      "cell_type": "code",
      "source": [
        "# Inverse Matrix\n",
        "la.inv(q_2d)"
      ],
      "metadata": {
        "colab": {
          "base_uri": "https://localhost:8080/"
        },
        "id": "wnNBzv0yAZqb",
        "outputId": "1ef84ef8-5a1a-435d-b39d-f32f0a7d0d8c"
      },
      "execution_count": 118,
      "outputs": [
        {
          "output_type": "execute_result",
          "data": {
            "text/plain": [
              "array([[-2. ,  1. ],\n",
              "       [ 1.5, -0.5]])"
            ]
          },
          "metadata": {},
          "execution_count": 118
        }
      ]
    },
    {
      "cell_type": "code",
      "source": [
        "# Find Eigen Values\n",
        "la.eig(q_2d)"
      ],
      "metadata": {
        "colab": {
          "base_uri": "https://localhost:8080/"
        },
        "id": "Zgu4vALvAdXX",
        "outputId": "da7e42a0-6786-4615-d955-7f5c7ecddbd3"
      },
      "execution_count": 119,
      "outputs": [
        {
          "output_type": "execute_result",
          "data": {
            "text/plain": [
              "EigResult(eigenvalues=array([-0.37228132,  5.37228132]), eigenvectors=array([[-0.82456484, -0.41597356],\n",
              "       [ 0.56576746, -0.90937671]]))"
            ]
          },
          "metadata": {},
          "execution_count": 119
        }
      ]
    },
    {
      "cell_type": "code",
      "source": [
        "np.random.shuffle(np_reshape)\n",
        "np_reshape"
      ],
      "metadata": {
        "colab": {
          "base_uri": "https://localhost:8080/"
        },
        "id": "WktAvkT-AhF4",
        "outputId": "7b71869f-c5c3-42bf-bccd-911ceb230741"
      },
      "execution_count": 120,
      "outputs": [
        {
          "output_type": "execute_result",
          "data": {
            "text/plain": [
              "array([0.7890766 , 0.68970859, 0.53614657, 0.06451744, 0.00190293,\n",
              "       0.0530658 ])"
            ]
          },
          "metadata": {},
          "execution_count": 120
        }
      ]
    },
    {
      "cell_type": "code",
      "source": [
        "# To generate b/w 0,1\n",
        "np.random.rand(2,3)"
      ],
      "metadata": {
        "colab": {
          "base_uri": "https://localhost:8080/"
        },
        "id": "0pQUwli4BqI0",
        "outputId": "0c2131f3-29bb-4398-9044-a41b7f1199df"
      },
      "execution_count": 121,
      "outputs": [
        {
          "output_type": "execute_result",
          "data": {
            "text/plain": [
              "array([[0.84286829, 0.43400762, 0.75776218],\n",
              "       [0.29675287, 0.40785294, 0.58536792]])"
            ]
          },
          "metadata": {},
          "execution_count": 121
        }
      ]
    },
    {
      "cell_type": "code",
      "source": [
        "# To generate b/w a range: randint(range,dim.)\n",
        "np.random.randint(1,10,6)"
      ],
      "metadata": {
        "colab": {
          "base_uri": "https://localhost:8080/"
        },
        "id": "fRif5PRBCE2V",
        "outputId": "2529f3e9-8520-4630-a4d3-422d26f2c20e"
      },
      "execution_count": 122,
      "outputs": [
        {
          "output_type": "execute_result",
          "data": {
            "text/plain": [
              "array([1, 6, 9, 6, 1, 8])"
            ]
          },
          "metadata": {},
          "execution_count": 122
        }
      ]
    },
    {
      "cell_type": "code",
      "source": [
        "# To generate between standard normal/binomial\n",
        "np.random.randn(3,2)"
      ],
      "metadata": {
        "colab": {
          "base_uri": "https://localhost:8080/"
        },
        "id": "rOVOXxZxCdCZ",
        "outputId": "1ae52c48-0469-4a29-a6fa-508f2f9343fb"
      },
      "execution_count": 124,
      "outputs": [
        {
          "output_type": "execute_result",
          "data": {
            "text/plain": [
              "array([[ 0.31734762, -0.35609054],\n",
              "       [-1.93811439,  0.75639691],\n",
              "       [-1.57717737,  1.15553198]])"
            ]
          },
          "metadata": {},
          "execution_count": 124
        }
      ]
    },
    {
      "cell_type": "code",
      "source": [
        "# Find success with particular prob. in given trial using Binomial and which points succed\n",
        "np.random.binomial(20,0.4,6)"
      ],
      "metadata": {
        "colab": {
          "base_uri": "https://localhost:8080/"
        },
        "id": "Jhm70hMrNsJ9",
        "outputId": "99946f04-4b72-4058-e5cb-149149368c9e"
      },
      "execution_count": 130,
      "outputs": [
        {
          "output_type": "execute_result",
          "data": {
            "text/plain": [
              "array([ 7,  5,  8, 10,  9,  8])"
            ]
          },
          "metadata": {},
          "execution_count": 130
        }
      ]
    },
    {
      "cell_type": "code",
      "source": [
        "#Exponential Distribution using lambda and no of points\n",
        "np.random.exponential(0.7,5)"
      ],
      "metadata": {
        "colab": {
          "base_uri": "https://localhost:8080/"
        },
        "id": "X1mvJYchN4D4",
        "outputId": "4e221f20-8a09-45cf-c178-f981eb359c0a"
      },
      "execution_count": 132,
      "outputs": [
        {
          "output_type": "execute_result",
          "data": {
            "text/plain": [
              "array([1.56170472, 0.87920063, 1.27351777, 0.22522876, 0.14067022])"
            ]
          },
          "metadata": {},
          "execution_count": 132
        }
      ]
    },
    {
      "cell_type": "code",
      "source": [
        "# Use normal distribution using mean and std dev\n",
        "np.random.normal(4,1.5,5)"
      ],
      "metadata": {
        "colab": {
          "base_uri": "https://localhost:8080/"
        },
        "id": "aCn6846AOjT-",
        "outputId": "59fde3c0-4813-414e-e43a-3946b660da77"
      },
      "execution_count": 133,
      "outputs": [
        {
          "output_type": "execute_result",
          "data": {
            "text/plain": [
              "array([4.47455062, 3.727578  , 4.93344602, 5.34680706, 2.02170535])"
            ]
          },
          "metadata": {},
          "execution_count": 133
        }
      ]
    },
    {
      "cell_type": "code",
      "source": [
        "# Logistic Distribution\n",
        "np.random.logistic(2,4,7)"
      ],
      "metadata": {
        "colab": {
          "base_uri": "https://localhost:8080/"
        },
        "id": "UO1_NNKsOul2",
        "outputId": "66d3aad4-86a1-4286-89c3-3ade6a77fe6c"
      },
      "execution_count": 137,
      "outputs": [
        {
          "output_type": "execute_result",
          "data": {
            "text/plain": [
              "array([-8.17667845, -7.10692543, -1.57500383, 11.55705426, 29.27254249,\n",
              "       13.3334454 ,  4.87102741])"
            ]
          },
          "metadata": {},
          "execution_count": 137
        }
      ]
    },
    {
      "cell_type": "code",
      "source": [
        "# To stack array over array: Enter in tuple\n",
        "np.vstack((np_reshape.reshape(3,-1),q_2d))"
      ],
      "metadata": {
        "colab": {
          "base_uri": "https://localhost:8080/"
        },
        "id": "E1f1dF7bO_rX",
        "outputId": "7f55c66d-8aa1-4531-fe98-eab5f9793eee"
      },
      "execution_count": 142,
      "outputs": [
        {
          "output_type": "execute_result",
          "data": {
            "text/plain": [
              "array([[7.89076602e-01, 6.89708592e-01],\n",
              "       [5.36146569e-01, 6.45174353e-02],\n",
              "       [1.90292576e-03, 5.30657982e-02],\n",
              "       [1.00000000e+00, 2.00000000e+00],\n",
              "       [3.00000000e+00, 4.00000000e+00]])"
            ]
          },
          "metadata": {},
          "execution_count": 142
        }
      ]
    },
    {
      "cell_type": "code",
      "source": [
        "np.hstack((np_reshape.reshape(2,-1),q_2d))"
      ],
      "metadata": {
        "colab": {
          "base_uri": "https://localhost:8080/"
        },
        "id": "Y3h44kC1Peh7",
        "outputId": "f65faef0-042a-492c-fc21-684045031fea"
      },
      "execution_count": 144,
      "outputs": [
        {
          "output_type": "execute_result",
          "data": {
            "text/plain": [
              "array([[7.89076602e-01, 6.89708592e-01, 5.36146569e-01, 1.00000000e+00,\n",
              "        2.00000000e+00],\n",
              "       [6.45174353e-02, 1.90292576e-03, 5.30657982e-02, 3.00000000e+00,\n",
              "        4.00000000e+00]])"
            ]
          },
          "metadata": {},
          "execution_count": 144
        }
      ]
    },
    {
      "cell_type": "code",
      "source": [
        "# Use %%time to find time taken for processes\n",
        "%%time\n",
        "q_2d+np.random.randint(1,65443,[2,2])"
      ],
      "metadata": {
        "colab": {
          "base_uri": "https://localhost:8080/"
        },
        "id": "nGKVMjYDQ0xy",
        "outputId": "3d8a71eb-0993-4f9e-82d7-95fa7a7a7024"
      },
      "execution_count": 165,
      "outputs": [
        {
          "output_type": "stream",
          "name": "stdout",
          "text": [
            "CPU times: user 1.19 ms, sys: 10 µs, total: 1.2 ms\n",
            "Wall time: 1.22 ms\n"
          ]
        },
        {
          "output_type": "execute_result",
          "data": {
            "text/plain": [
              "array([[45510, 16143],\n",
              "       [41587,  1478]])"
            ]
          },
          "metadata": {},
          "execution_count": 165
        }
      ]
    },
    {
      "cell_type": "code",
      "source": [
        "0"
      ],
      "metadata": {
        "id": "zWTwpwQjRGBc"
      },
      "execution_count": 156,
      "outputs": []
    }
  ]
}