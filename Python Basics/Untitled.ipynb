{
 "cells": [
  {
   "cell_type": "code",
   "execution_count": null,
   "id": "711655f7-52d6-4d7b-bbcf-c7d7cb5722ba",
   "metadata": {},
   "outputs": [],
   "source": [
    "print(\"radhe radhe\")"
   ]
  },
  {
   "cell_type": "code",
   "execution_count": null,
   "id": "9d942bf6-514c-4bf5-ac1b-08618b512bdf",
   "metadata": {},
   "outputs": [],
   "source": [
    "print(\"radhe radhe\")"
   ]
  },
  {
   "cell_type": "code",
   "execution_count": null,
   "id": "c2db237e-9ae0-4afa-b228-e583500a0256",
   "metadata": {},
   "outputs": [],
   "source": []
  }
 ],
 "metadata": {
  "kernelspec": {
   "display_name": "Python 3 (ipykernel)",
   "language": "python",
   "name": "python3"
  },
  "language_info": {
   "name": ""
  }
 },
 "nbformat": 4,
 "nbformat_minor": 5
}
